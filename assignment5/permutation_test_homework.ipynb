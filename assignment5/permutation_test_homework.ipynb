{
 "cells": [
  {
   "cell_type": "markdown",
   "metadata": {},
   "source": [
    "## Assignment 5: Permutation Tests\n",
    "Frontiers of Computational Journalism Fall 2018, Columbia Journalism School\n",
    "\n",
    "In this assignment you will compute a one-tailed difference of means p-value by using a permutation test. This is a classic statistical problem the comes up in many different scenarios when comparing two groups. Examples include testing medications between treatment and control groups of patients, or testing an intervention like a different teaching method in two different classes.\n",
    "\n",
    "I don't really recommend using p-values, or statistical significance testing in general -- I'd prefer to see these types of results reported as confidence intervals on the effect sizes. However, a great deal of research used and still uses p-values, so it's important that you understand what they are.\n",
    "\n",
    "Normally this sort of p-value would be computed by using something like a t-test. I want you to do it using a permutation test because I think it's conceptually clearer. Also, randomization methods are cool, and often a lot simpler and more powerful than classicial analytic methods.\n",
    "\n",
    "References:\n",
    "- [Solve Every Statistics Problem with One Weird Trick](https://www.youtube.com/watch?v=BhY-un6JURA) - well not really \"all\", but it's an entertaining five minute introduction to randomization methods.\n",
    "- [A Brief Overview of Permutation Tests with Examples](https://www.ohbmbrainmappingblog.com/blog/a-brief-overview-of-permutation-testing-with-examples) - Good intro. Example 1 is almost exactly what you'll be doing in this assignment.\n",
    "- [Permutation Methods: A Basis for Exact Inference](http://dutiosb.twi.tudelft.nl/~cai/AS2015/Ernst2004.pdf) - a more scholarly and technical discussion\n",
    "\n",
    "\n"
   ]
  },
  {
   "cell_type": "code",
   "execution_count": 19,
   "metadata": {},
   "outputs": [],
   "source": [
    "import numpy as np"
   ]
  },
  {
   "cell_type": "code",
   "execution_count": 44,
   "metadata": {},
   "outputs": [],
   "source": [
    "# Here's your data\n",
    "np.random.seed(42)\n",
    "a = np.random.randn(20)*5+12\n",
    "b = np.random.randn(15)*3+10"
   ]
  },
  {
   "cell_type": "code",
   "execution_count": 45,
   "metadata": {},
   "outputs": [
    {
     "data": {
      "text/plain": [
       "array([14.48357077, 11.30867849, 15.23844269, 19.61514928, 10.82923313,\n",
       "       10.82931522, 19.89606408, 15.83717365,  9.65262807, 14.71280022,\n",
       "        9.68291154,  9.67135123, 13.20981136,  2.43359878,  3.37541084,\n",
       "        9.18856235,  6.9358444 , 13.57123666,  7.45987962,  4.93848149])"
      ]
     },
     "execution_count": 45,
     "metadata": {},
     "output_type": "execute_result"
    }
   ],
   "source": [
    "a"
   ]
  },
  {
   "cell_type": "code",
   "execution_count": 46,
   "metadata": {},
   "outputs": [
    {
     "data": {
      "text/plain": [
       "array([14.39694631,  9.3226711 , 10.20258461,  5.72575544,  8.36685183,\n",
       "       10.33276777,  6.54701927, 11.12709406,  8.19808393,  9.12491875,\n",
       "        8.19488016, 15.55683455,  9.95950833,  6.82686721, 12.46763474])"
      ]
     },
     "execution_count": 46,
     "metadata": {},
     "output_type": "execute_result"
    }
   ],
   "source": [
    "b"
   ]
  },
  {
   "cell_type": "code",
   "execution_count": 47,
   "metadata": {},
   "outputs": [
    {
     "data": {
      "text/plain": [
       "1.3868126559919833"
      ]
     },
     "execution_count": 47,
     "metadata": {},
     "output_type": "execute_result"
    }
   ],
   "source": [
    "observed_mean = a.mean() - b.mean()\n",
    "observed_mean"
   ]
  },
  {
   "cell_type": "code",
   "execution_count": 63,
   "metadata": {},
   "outputs": [],
   "source": [
    "# How many permutations to sample\n",
    "nsamples = 10000"
   ]
  },
  {
   "cell_type": "markdown",
   "metadata": {},
   "source": [
    "Your assignment is to write code that does the following:\n",
    "\n",
    "- Generates nsamples random permutations of the elements of a and b. Note that a and b are different lengths\n",
    "- Computes the difference of means for each permutation\n",
    "- Calculates the fraction that are greater or equal to observed_mean\n"
   ]
  },
  {
   "cell_type": "code",
   "execution_count": 65,
   "metadata": {},
   "outputs": [
    {
     "name": "stdout",
     "output_type": "stream",
     "text": [
      "1605\n",
      "0.16048395160483953\n"
     ]
    }
   ],
   "source": [
    "# your code here\n",
    "import random\n",
    "greater = 1\n",
    "common_list = np.concatenate((a, b), axis=0)\n",
    "for i in range(nsamples):\n",
    "    random.shuffle(common_list)\n",
    "    new_a = np.asarray(common_list[:20])\n",
    "    new_b = np.asarray(common_list[20:35])\n",
    "    new_mean = new_a.mean() - new_b.mean()\n",
    "    if (new_mean >= observed_mean):\n",
    "        greater += 1\n",
    "print(greater)\n",
    "print(greater/(nsamples+1))"
   ]
  },
  {
   "cell_type": "markdown",
   "metadata": {},
   "source": [
    "What is the computed p-value?"
   ]
  },
  {
   "cell_type": "markdown",
   "metadata": {},
   "source": [
    "p = 0.1605, implying that the results of this test (whatever a and b represent) are not significant when compared to the standard p-value (0.05) used in most research."
   ]
  }
 ],
 "metadata": {
  "kernelspec": {
   "display_name": "Python 3",
   "language": "python",
   "name": "python3"
  },
  "language_info": {
   "codemirror_mode": {
    "name": "ipython",
    "version": 3
   },
   "file_extension": ".py",
   "mimetype": "text/x-python",
   "name": "python",
   "nbconvert_exporter": "python",
   "pygments_lexer": "ipython3",
   "version": "3.6.3"
  }
 },
 "nbformat": 4,
 "nbformat_minor": 2
}
